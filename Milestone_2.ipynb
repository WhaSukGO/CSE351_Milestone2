{
 "cells": [
  {
   "cell_type": "code",
   "execution_count": 42,
   "metadata": {},
   "outputs": [
    {
     "name": "stdout",
     "output_type": "stream",
     "text": [
      "Gathering 4 grams, Class 1 out of 9...\n",
      "Gathering 4 grams, Class 2 out of 9...\n",
      "Gathering 4 grams, Class 3 out of 9...\n",
      "Gathering 4 grams, Class 4 out of 9...\n",
      "Gathering 4 grams, Class 5 out of 9...\n",
      "Gathering 4 grams, Class 6 out of 9...\n",
      "Gathering 4 grams, Class 7 out of 9...\n",
      "Gathering 4 grams, Class 8 out of 9...\n",
      "Gathering 4 grams, Class 9 out of 9...\n"
     ]
    }
   ],
   "source": [
    "!bash single_model.sh"
   ]
  },
  {
   "cell_type": "code",
   "execution_count": 43,
   "metadata": {},
   "outputs": [
    {
     "name": "stdout",
     "output_type": "stream",
     "text": [
      "DONE 4 gram features!\r\n"
     ]
    }
   ],
   "source": [
    "!python join_grams.py"
   ]
  },
  {
   "cell_type": "code",
   "execution_count": 44,
   "metadata": {},
   "outputs": [
    {
     "name": "stdout",
     "output_type": "stream",
     "text": [
      "DONE bytes count!\r\n"
     ]
    }
   ],
   "source": [
    "!python freq_count.py"
   ]
  },
  {
   "cell_type": "code",
   "execution_count": 45,
   "metadata": {},
   "outputs": [
    {
     "name": "stdout",
     "output_type": "stream",
     "text": [
      "DONE instruction count!\r\n"
     ]
    }
   ],
   "source": [
    "!python instr_freq.py"
   ]
  },
  {
   "cell_type": "code",
   "execution_count": 46,
   "metadata": {},
   "outputs": [
    {
     "name": "stdout",
     "output_type": "stream",
     "text": [
      "DONE DLL functions!\r\n"
     ]
    }
   ],
   "source": [
    "!python dll.py"
   ]
  },
  {
   "cell_type": "code",
   "execution_count": 47,
   "metadata": {},
   "outputs": [
    {
     "name": "stdout",
     "output_type": "stream",
     "text": [
      "DONE asm image features!\r\n"
     ]
    }
   ],
   "source": [
    "!python image_fea.py"
   ]
  }
 ],
 "metadata": {
  "kernelspec": {
   "display_name": "Python 2",
   "language": "python",
   "name": "python2"
  },
  "language_info": {
   "codemirror_mode": {
    "name": "ipython",
    "version": 2
   },
   "file_extension": ".py",
   "mimetype": "text/x-python",
   "name": "python",
   "nbconvert_exporter": "python",
   "pygments_lexer": "ipython2",
   "version": "2.7.16"
  }
 },
 "nbformat": 4,
 "nbformat_minor": 2
}